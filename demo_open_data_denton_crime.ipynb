{
  "cells": [
    {
      "cell_type": "markdown",
      "source": [
        "<a href=\"https://colab.research.google.com/github/wshuyi/demo_open_data_denton_crime/blob/master/demo_open_data_denton_crime.ipynb\" target=\"_parent\"><img src=\"https://colab.research.google.com/assets/colab-badge.svg\" alt=\"Open In Colab\"/></a>"
      ],
      "metadata": {
        "id": "view-in-github",
        "colab_type": "text"
      }
    },
    {
      "cell_type": "code",
      "source": [
        "url = \"http://data.cityofdenton.com/dataset/17695047-0aeb-46a2-a9db-66847743ed1c/resource/d356a409-6764-46d7-942d-4d5a7ffb1c28/download/crime_data_20190301.csv\""
      ],
      "outputs": [],
      "execution_count": 0,
      "metadata": {
        "id": "atX4Xbxyin4m",
        "colab_type": "code",
        "colab": {}
      }
    },
    {
      "cell_type": "code",
      "source": [
        "!wget {url}"
      ],
      "outputs": [],
      "execution_count": 0,
      "metadata": {
        "id": "tq2gynCjin4q",
        "colab_type": "code",
        "colab": {}
      }
    },
    {
      "cell_type": "code",
      "source": [
        "import pandas as pd"
      ],
      "outputs": [],
      "execution_count": 0,
      "metadata": {
        "id": "wc7NuKoBin4v",
        "colab_type": "code",
        "colab": {}
      }
    },
    {
      "cell_type": "code",
      "source": [
        "df = pd.read_csv('crime_data_20190301.csv')"
      ],
      "outputs": [],
      "execution_count": 0,
      "metadata": {
        "id": "h6VB-dxwin4y",
        "colab_type": "code",
        "colab": {}
      }
    },
    {
      "cell_type": "code",
      "source": [
        "df.head()"
      ],
      "outputs": [],
      "execution_count": 0,
      "metadata": {
        "id": "uLWTwbbOin40",
        "colab_type": "code",
        "colab": {}
      }
    },
    {
      "cell_type": "code",
      "source": [
        "df.crime.value_counts().iloc[:10]"
      ],
      "outputs": [],
      "execution_count": 0,
      "metadata": {
        "id": "lhMMj34Xin43",
        "colab_type": "code",
        "colab": {}
      }
    },
    {
      "cell_type": "code",
      "source": [
        "%matplotlib inline"
      ],
      "outputs": [],
      "execution_count": 0,
      "metadata": {
        "id": "V94lwt3Bin47",
        "colab_type": "code",
        "colab": {}
      }
    },
    {
      "cell_type": "code",
      "source": [
        "df.crime.value_counts().iloc[:10].sort_values().plot(kind='barh')"
      ],
      "outputs": [],
      "execution_count": 0,
      "metadata": {
        "id": "SXZuK5xGin49",
        "colab_type": "code",
        "colab": {}
      }
    },
    {
      "cell_type": "code",
      "source": [
        "robbery = df[df.crime.str.contains('ROBBERY')]; robbery.head()"
      ],
      "outputs": [],
      "execution_count": 0,
      "metadata": {
        "id": "qQWPi4BDin5A",
        "colab_type": "code",
        "colab": {}
      }
    },
    {
      "cell_type": "code",
      "source": [
        "robbery.shape"
      ],
      "outputs": [],
      "execution_count": 0,
      "metadata": {
        "id": "u_OtcwO3in5D",
        "colab_type": "code",
        "colab": {}
      }
    },
    {
      "cell_type": "code",
      "source": [
        "robbery.groupby('locname').size().sort_values(ascending=False)"
      ],
      "outputs": [],
      "execution_count": 0,
      "metadata": {
        "id": "IQ09-Z53in5F",
        "colab_type": "code",
        "colab": {}
      }
    },
    {
      "cell_type": "code",
      "source": [
        "robbery.groupby('locname').size().sort_values(ascending=False).head(10).sort_values().plot(kind='barh')"
      ],
      "outputs": [],
      "execution_count": 0,
      "metadata": {
        "id": "gvPfTiZDin5I",
        "colab_type": "code",
        "colab": {}
      }
    },
    {
      "cell_type": "code",
      "source": [
        "regex = r\"\\d+XX\\s(?P<street>.*)\"\n",
        "subst = \"\\\\g<street>\""
      ],
      "outputs": [],
      "execution_count": 0,
      "metadata": {
        "id": "RSyRJ8d-in5K",
        "colab_type": "code",
        "colab": {}
      }
    },
    {
      "cell_type": "code",
      "source": [
        "robbery[\"street\"] = robbery.publicadress.str.replace(regex, subst)"
      ],
      "outputs": [],
      "execution_count": 0,
      "metadata": {
        "id": "yfp_r3QTin5L",
        "colab_type": "code",
        "colab": {}
      }
    },
    {
      "cell_type": "code",
      "source": [
        "robbery.head()"
      ],
      "outputs": [],
      "execution_count": 0,
      "metadata": {
        "id": "QQugTlcSin5O",
        "colab_type": "code",
        "colab": {}
      }
    },
    {
      "cell_type": "code",
      "source": [
        "robbery.groupby('street').size().sort_values(ascending=False).head(10)"
      ],
      "outputs": [],
      "execution_count": 0,
      "metadata": {
        "id": "h5fNIafYin5R",
        "colab_type": "code",
        "colab": {}
      }
    },
    {
      "cell_type": "code",
      "source": [
        "robbery[\"year\"] = pd.to_datetime(robbery.incidentdatetime).apply(lambda x: x.year)"
      ],
      "outputs": [],
      "execution_count": 0,
      "metadata": {
        "id": "3hzHICCSin5T",
        "colab_type": "code",
        "colab": {}
      }
    },
    {
      "cell_type": "code",
      "source": [
        "robbery[\"month\"] = pd.to_datetime(robbery.incidentdatetime).apply(lambda x: x.month)"
      ],
      "outputs": [],
      "execution_count": 0,
      "metadata": {
        "id": "nQKFyry4in5W",
        "colab_type": "code",
        "colab": {}
      }
    },
    {
      "cell_type": "code",
      "source": [
        "robbery[\"hour\"] = pd.to_datetime(robbery.incidentdatetime).apply(lambda x: x.hour)"
      ],
      "outputs": [],
      "execution_count": 0,
      "metadata": {
        "id": "JsHy3gAKin5a",
        "colab_type": "code",
        "colab": {}
      }
    },
    {
      "cell_type": "code",
      "source": [
        "robbery.head()"
      ],
      "outputs": [],
      "execution_count": 0,
      "metadata": {
        "id": "VNLrlRlWin5c",
        "colab_type": "code",
        "colab": {}
      }
    },
    {
      "cell_type": "code",
      "source": [
        "robbery.groupby('year').size()"
      ],
      "outputs": [],
      "execution_count": 0,
      "metadata": {
        "id": "lDVOLpmTin5e",
        "colab_type": "code",
        "colab": {}
      }
    },
    {
      "cell_type": "code",
      "source": [
        "robbery.shape"
      ],
      "outputs": [],
      "execution_count": 0,
      "metadata": {
        "id": "rtDg6oKxin5g",
        "colab_type": "code",
        "colab": {}
      }
    },
    {
      "cell_type": "code",
      "source": [
        "robbery = robbery[~(robbery.year == 2019)]"
      ],
      "outputs": [],
      "execution_count": 0,
      "metadata": {
        "id": "ZHktkepBin5i",
        "colab_type": "code",
        "colab": {}
      }
    },
    {
      "cell_type": "code",
      "source": [
        "robbery.shape"
      ],
      "outputs": [],
      "execution_count": 0,
      "metadata": {
        "id": "JLE3F1m5in5j",
        "colab_type": "code",
        "colab": {}
      }
    },
    {
      "cell_type": "code",
      "source": [
        "robbery.groupby('year').size().plot()"
      ],
      "outputs": [],
      "execution_count": 0,
      "metadata": {
        "id": "yQauZvKQin5l",
        "colab_type": "code",
        "colab": {}
      }
    },
    {
      "cell_type": "code",
      "source": [
        "robbery.groupby('month').size().plot(kind='bar')"
      ],
      "outputs": [],
      "execution_count": 0,
      "metadata": {
        "id": "6pxJ6Snuin5n",
        "colab_type": "code",
        "colab": {}
      }
    },
    {
      "cell_type": "code",
      "source": [
        "robbery[robbery.year==2018].groupby('month').size().plot(kind='bar')"
      ],
      "outputs": [],
      "execution_count": 0,
      "metadata": {
        "id": "s6JO1Dlcin5p",
        "colab_type": "code",
        "colab": {}
      }
    },
    {
      "cell_type": "code",
      "source": [
        "robbery.groupby('hour').size().plot(kind='bar')"
      ],
      "outputs": [],
      "execution_count": 0,
      "metadata": {
        "id": "rUw_sPv1in5r",
        "colab_type": "code",
        "colab": {}
      }
    },
    {
      "cell_type": "code",
      "source": [
        "robbery[robbery.year==2018].groupby('hour').size().plot(kind='bar')"
      ],
      "outputs": [],
      "execution_count": 0,
      "metadata": {
        "id": "UGA5pB0Zin5u",
        "colab_type": "code",
        "colab": {}
      }
    },
    {
      "cell_type": "code",
      "source": [
        "robbery[robbery.year==2018].groupby(['month', 'hour']).size()"
      ],
      "outputs": [],
      "execution_count": 0,
      "metadata": {
        "id": "yLOVQlt9in5w",
        "colab_type": "code",
        "colab": {}
      }
    },
    {
      "cell_type": "code",
      "source": [
        "robbery[robbery.year==2018].groupby(['month', 'hour']).size().unstack(0)"
      ],
      "outputs": [],
      "execution_count": 0,
      "metadata": {
        "id": "XiUYdmgnin5y",
        "colab_type": "code",
        "colab": {}
      }
    },
    {
      "cell_type": "code",
      "source": [
        "robbery[robbery.year==2018].groupby(['month', 'hour']).size().unstack(0).fillna(0)"
      ],
      "outputs": [],
      "execution_count": 0,
      "metadata": {
        "id": "xNWRvpAZin50",
        "colab_type": "code",
        "colab": {}
      }
    },
    {
      "cell_type": "code",
      "source": [
        "robbery[robbery.year==2018].groupby(['month', 'hour']).size().unstack(0).fillna(0).plot(subplots=True, kind='bar', figsize=(5,30))"
      ],
      "outputs": [],
      "execution_count": 0,
      "metadata": {
        "id": "IEvn-LZpin52",
        "colab_type": "code",
        "colab": {}
      }
    },
    {
      "cell_type": "code",
      "source": [],
      "outputs": [],
      "execution_count": 0,
      "metadata": {
        "id": "n5t6RBIxin55",
        "colab_type": "code",
        "colab": {}
      }
    }
  ],
  "metadata": {
    "colab": {
      "name": "demo_denton_open_data_crime.ipynb",
      "version": "0.3.2",
      "provenance": [],
      "collapsed_sections": [],
      "include_colab_link": true
    },
    "kernelspec": {
      "name": "python3",
      "language": "python",
      "display_name": "Python 3"
    },
    "kernel_info": {
      "name": "python3"
    },
    "language_info": {
      "name": "python",
      "version": "3.6.3",
      "mimetype": "text/x-python",
      "codemirror_mode": {
        "name": "ipython",
        "version": 3
      },
      "pygments_lexer": "ipython3",
      "nbconvert_exporter": "python",
      "file_extension": ".py"
    },
    "nteract": {
      "version": "0.13.0"
    }
  },
  "nbformat": 4,
  "nbformat_minor": 0
}